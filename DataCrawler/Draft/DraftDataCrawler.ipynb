{
 "cells": [
  {
   "cell_type": "code",
   "execution_count": 1,
   "id": "a47f6f6c-ef9e-4b72-a076-12ed0f765c0b",
   "metadata": {},
   "outputs": [],
   "source": [
    "import requests\n",
    "from urllib.parse import urljoin\n",
    "from bs4 import BeautifulSoup"
   ]
  },
  {
   "cell_type": "markdown",
   "id": "0fa1c3ec-9d4a-4fd4-a10e-193b0176d626",
   "metadata": {},
   "source": [
    "## PLP (Product Listing Page)"
   ]
  },
  {
   "cell_type": "code",
   "execution_count": 2,
   "id": "89bce868-863c-4f92-b8a0-3bc5af447992",
   "metadata": {},
   "outputs": [],
   "source": [
    "base_url = \"https://vietnamese.motospare-parts.com/buy-h4.html\"\n",
    "response = requests.get(base_url)\n",
    "soup = BeautifulSoup(response.text, 'html.parser')"
   ]
  },
  {
   "cell_type": "markdown",
   "id": "0fdc80bd-56cb-4c07-b02a-4b525a14387d",
   "metadata": {},
   "source": [
    "### Product's url in PLP"
   ]
  },
  {
   "cell_type": "code",
   "execution_count": 3,
   "id": "ead535e1-dedb-4584-92b7-fa1c78c9d6b9",
   "metadata": {},
   "outputs": [],
   "source": [
    "product_url = soup.select_one(\"div.imgbox a\")"
   ]
  },
  {
   "cell_type": "code",
   "execution_count": 4,
   "id": "9e374863-e6cb-4637-a478-73ceae9e2a0e",
   "metadata": {},
   "outputs": [
    {
     "data": {
      "text/plain": [
       "'/sale-43297521-ba20d-h6m-p15d-h4-led-motorcycle-headlight-bulb-1200lm-high-low-beam.html'"
      ]
     },
     "execution_count": 4,
     "metadata": {},
     "output_type": "execute_result"
    }
   ],
   "source": [
    "product_url[\"href\"]"
   ]
  },
  {
   "cell_type": "code",
   "execution_count": 5,
   "id": "e82ba4e8-5ffe-4af0-b695-45f1ad5e4c41",
   "metadata": {},
   "outputs": [
    {
     "data": {
      "text/plain": [
       "'https://vietnamese.motospare-parts.com/sale-43297521-ba20d-h6m-p15d-h4-led-motorcycle-headlight-bulb-1200lm-high-low-beam.html'"
      ]
     },
     "execution_count": 5,
     "metadata": {},
     "output_type": "execute_result"
    }
   ],
   "source": [
    "urljoin(base_url, product_url[\"href\"])"
   ]
  },
  {
   "cell_type": "code",
   "execution_count": 6,
   "id": "32f4fbff-cedd-46ff-beb3-3cce9d94188a",
   "metadata": {},
   "outputs": [],
   "source": [
    "full_path_product_url = urljoin(base_url, product_url[\"href\"])"
   ]
  },
  {
   "cell_type": "markdown",
   "id": "1bb24e43-f6c2-4bd2-b656-3feaaf1fd5f5",
   "metadata": {},
   "source": [
    "## PDP (Product Detail Page)"
   ]
  },
  {
   "cell_type": "code",
   "execution_count": 7,
   "id": "9fa0dc4c-26ac-4e52-8623-6cafac1eeea0",
   "metadata": {},
   "outputs": [],
   "source": [
    "response = requests.get(full_path_product_url)\n",
    "soup = BeautifulSoup(response.text, 'html.parser')"
   ]
  },
  {
   "cell_type": "markdown",
   "id": "6ee4fa83-fc16-4a9d-854e-faaeedb12845",
   "metadata": {},
   "source": [
    "### Name"
   ]
  },
  {
   "cell_type": "code",
   "execution_count": 10,
   "id": "7e7ba8e1-d080-461c-8ee4-c44e9ec7adf6",
   "metadata": {},
   "outputs": [],
   "source": [
    "name = soup.select_one(\"body > div.hu_product_detailmain_115V2.w > h1\")"
   ]
  },
  {
   "cell_type": "code",
   "execution_count": 12,
   "id": "caab9b1b-10f8-4ad8-8287-b262e3268460",
   "metadata": {},
   "outputs": [
    {
     "data": {
      "text/plain": [
       "<h1>BA20D H6M P15D H4 ÄÃ¨n ÄÃ¨n pha xe mÃ¡y LED bÃ³ng ÄÃ¨n 1200lm ÄÃ¨n sÃ¡ng cao tháº¥p</h1>"
      ]
     },
     "execution_count": 12,
     "metadata": {},
     "output_type": "execute_result"
    }
   ],
   "source": [
    "name"
   ]
  },
  {
   "cell_type": "markdown",
   "id": "2d5b9778-80f0-478a-91fc-f506e5dd6e07",
   "metadata": {},
   "source": [
    "### Description 1"
   ]
  },
  {
   "cell_type": "code",
   "execution_count": 13,
   "id": "56726c94-5e09-44ee-a7d1-afe8803a6b73",
   "metadata": {},
   "outputs": [],
   "source": [
    "desc1 = soup.select_one(\"div.info table.tab1\")"
   ]
  },
  {
   "cell_type": "code",
   "execution_count": 14,
   "id": "e6e4ff23-d65f-47b5-89d1-cdcf6926fb5c",
   "metadata": {},
   "outputs": [
    {
     "data": {
      "text/plain": [
       "<table border=\"0\" class=\"tab1\" width=\"100%\">\n",
       "<tbody>\n",
       "<tr>\n",
       "<th title=\"Nguá»n gá»c\">Nguá»n gá»c:</th>\n",
       "<td title=\"Quáº£ng ÄÃ´ng, Trung Quá»c\">Quáº£ng ÄÃ´ng, Trung Quá»c</td>\n",
       "</tr>\n",
       "<tr>\n",
       "<th title=\"HÃ ng hiá»u\">HÃ ng hiá»u:</th>\n",
       "<td title=\"YAYE\">YAYE</td>\n",
       "</tr>\n",
       "<tr>\n",
       "<th title=\"Sá» mÃ´ hÃ¬nh\">Sá» mÃ´ hÃ¬nh:</th>\n",
       "<td title=\"H4-YG-WCSPAC\">H4-YG-WCSPAC</td>\n",
       "</tr>\n",
       "<tr>\n",
       "<td class=\"boder\" colspan=\"2\">\n",
       "</td></tr>\n",
       "<tr>\n",
       "<th title=\"Sá» lÆ°á»£ng Äáº·t hÃ ng tá»i thiá»u\">Sá» lÆ°á»£ng Äáº·t hÃ ng tá»i thiá»u:</th>\n",
       "<td title=\"50 miáº¿ng\">50 miáº¿ng</td>\n",
       "</tr>\n",
       "<tr>\n",
       "<th title=\"GiÃ¡ bÃ¡n\">GiÃ¡ bÃ¡n:</th>\n",
       "<td title=\"$2.89/pieces 50-2499 pieces\">$2.89/pieces 50-2499 pieces</td>\n",
       "</tr>\n",
       "<tr>\n",
       "<th title=\"chi tiáº¿t ÄÃ³ng gÃ³i\">chi tiáº¿t ÄÃ³ng gÃ³i:</th>\n",
       "<td title=\"&lt;i&gt;250pcs/ctn H4&lt;/i&gt; &lt;b&gt;250 chiáº¿c/thÃ¹ng H4&lt;/b&gt;&lt;br&gt; &lt;i&gt;500pcs/ctn Ba20D P15D&lt;/i&gt; &lt;b&gt;500 cÃ¡i/ctn Ba20D\">&lt;i&gt;250pcs/ctn H4&lt;/i&gt; &lt;b&gt;250 chiáº¿c/thÃ¹ng H4&lt;/b&gt;&lt;br&gt; &lt;i&gt;500pcs/ctn Ba20D P15D&lt;/i&gt; &lt;b&gt;500 cÃ¡i/ctn Ba20D</td>\n",
       "</tr>\n",
       "<tr>\n",
       "<th title=\"Kháº£ nÄng cung cáº¥p\">Kháº£ nÄng cung cáº¥p:</th>\n",
       "<td title=\"2000 máº£nh / máº£nh má»i ngÃ y\">2000 máº£nh / máº£nh má»i ngÃ y</td>\n",
       "</tr>\n",
       "</tbody>\n",
       "</table>"
      ]
     },
     "execution_count": 14,
     "metadata": {},
     "output_type": "execute_result"
    }
   ],
   "source": [
    "desc1"
   ]
  },
  {
   "cell_type": "markdown",
   "id": "ef13a843-b0f7-47fd-ae8d-10f21dabfec2",
   "metadata": {},
   "source": [
    "### Desctiption 2"
   ]
  },
  {
   "cell_type": "code",
   "execution_count": 15,
   "id": "dd789009-d6e6-4e79-bad9-7caca1fa4f15",
   "metadata": {},
   "outputs": [],
   "source": [
    "desc2 = soup.select_one(\"div.info table.tab1\")"
   ]
  },
  {
   "cell_type": "code",
   "execution_count": 16,
   "id": "426ed98f-dfa6-41f4-abfa-f9f2bcc724f7",
   "metadata": {},
   "outputs": [
    {
     "data": {
      "text/plain": [
       "<table border=\"0\" class=\"tab1\" width=\"100%\">\n",
       "<tbody>\n",
       "<tr>\n",
       "<th title=\"Nguá»n gá»c\">Nguá»n gá»c:</th>\n",
       "<td title=\"Quáº£ng ÄÃ´ng, Trung Quá»c\">Quáº£ng ÄÃ´ng, Trung Quá»c</td>\n",
       "</tr>\n",
       "<tr>\n",
       "<th title=\"HÃ ng hiá»u\">HÃ ng hiá»u:</th>\n",
       "<td title=\"YAYE\">YAYE</td>\n",
       "</tr>\n",
       "<tr>\n",
       "<th title=\"Sá» mÃ´ hÃ¬nh\">Sá» mÃ´ hÃ¬nh:</th>\n",
       "<td title=\"H4-YG-WCSPAC\">H4-YG-WCSPAC</td>\n",
       "</tr>\n",
       "<tr>\n",
       "<td class=\"boder\" colspan=\"2\">\n",
       "</td></tr>\n",
       "<tr>\n",
       "<th title=\"Sá» lÆ°á»£ng Äáº·t hÃ ng tá»i thiá»u\">Sá» lÆ°á»£ng Äáº·t hÃ ng tá»i thiá»u:</th>\n",
       "<td title=\"50 miáº¿ng\">50 miáº¿ng</td>\n",
       "</tr>\n",
       "<tr>\n",
       "<th title=\"GiÃ¡ bÃ¡n\">GiÃ¡ bÃ¡n:</th>\n",
       "<td title=\"$2.89/pieces 50-2499 pieces\">$2.89/pieces 50-2499 pieces</td>\n",
       "</tr>\n",
       "<tr>\n",
       "<th title=\"chi tiáº¿t ÄÃ³ng gÃ³i\">chi tiáº¿t ÄÃ³ng gÃ³i:</th>\n",
       "<td title=\"&lt;i&gt;250pcs/ctn H4&lt;/i&gt; &lt;b&gt;250 chiáº¿c/thÃ¹ng H4&lt;/b&gt;&lt;br&gt; &lt;i&gt;500pcs/ctn Ba20D P15D&lt;/i&gt; &lt;b&gt;500 cÃ¡i/ctn Ba20D\">&lt;i&gt;250pcs/ctn H4&lt;/i&gt; &lt;b&gt;250 chiáº¿c/thÃ¹ng H4&lt;/b&gt;&lt;br&gt; &lt;i&gt;500pcs/ctn Ba20D P15D&lt;/i&gt; &lt;b&gt;500 cÃ¡i/ctn Ba20D</td>\n",
       "</tr>\n",
       "<tr>\n",
       "<th title=\"Kháº£ nÄng cung cáº¥p\">Kháº£ nÄng cung cáº¥p:</th>\n",
       "<td title=\"2000 máº£nh / máº£nh má»i ngÃ y\">2000 máº£nh / máº£nh má»i ngÃ y</td>\n",
       "</tr>\n",
       "</tbody>\n",
       "</table>"
      ]
     },
     "execution_count": 16,
     "metadata": {},
     "output_type": "execute_result"
    }
   ],
   "source": [
    "desc2"
   ]
  },
  {
   "cell_type": "code",
   "execution_count": null,
   "id": "b7598565-b820-4f49-9854-0999706deb6f",
   "metadata": {},
   "outputs": [],
   "source": []
  }
 ],
 "metadata": {
  "kernelspec": {
   "display_name": "Python 3 (ipykernel)",
   "language": "python",
   "name": "python3"
  },
  "language_info": {
   "codemirror_mode": {
    "name": "ipython",
    "version": 3
   },
   "file_extension": ".py",
   "mimetype": "text/x-python",
   "name": "python",
   "nbconvert_exporter": "python",
   "pygments_lexer": "ipython3",
   "version": "3.11.10"
  }
 },
 "nbformat": 4,
 "nbformat_minor": 5
}
